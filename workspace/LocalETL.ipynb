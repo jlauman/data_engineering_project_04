{
 "cells": [
  {
   "cell_type": "code",
   "execution_count": 1,
   "metadata": {},
   "outputs": [],
   "source": [
    "import pandas as pd\n",
    "from pyspark import SparkConf, SparkContext\n",
    "from pyspark.sql import SparkSession\n",
    "from pyspark.sql.types import StructType, StructField, StringType, ShortType, DoubleType, DateType\n",
    "from pyspark.sql import functions as F"
   ]
  },
  {
   "cell_type": "code",
   "execution_count": 2,
   "metadata": {},
   "outputs": [
    {
     "name": "stdout",
     "output_type": "stream",
     "text": [
      "spark not initialized\n"
     ]
    }
   ],
   "source": [
    "try:\n",
    "    spark.stop()\n",
    "except:\n",
    "    print('spark not initialized')"
   ]
  },
  {
   "cell_type": "code",
   "execution_count": 3,
   "metadata": {},
   "outputs": [
    {
     "data": {
      "text/html": [
       "\n",
       "            <div>\n",
       "                <p><b>SparkSession - in-memory</b></p>\n",
       "                \n",
       "        <div>\n",
       "            <p><b>SparkContext</b></p>\n",
       "\n",
       "            <p><a href=\"http://62141837737f:4040\">Spark UI</a></p>\n",
       "\n",
       "            <dl>\n",
       "              <dt>Version</dt>\n",
       "                <dd><code>v2.4.3</code></dd>\n",
       "              <dt>Master</dt>\n",
       "                <dd><code>spark://master:7077</code></dd>\n",
       "              <dt>AppName</dt>\n",
       "                <dd><code>Sparkify Local ETL</code></dd>\n",
       "            </dl>\n",
       "        </div>\n",
       "        \n",
       "            </div>\n",
       "        "
      ],
      "text/plain": [
       "<pyspark.sql.session.SparkSession at 0x7f994579b128>"
      ]
     },
     "execution_count": 3,
     "metadata": {},
     "output_type": "execute_result"
    }
   ],
   "source": [
    "spark = SparkSession \\\n",
    "    .builder \\\n",
    "    .master('spark://master:7077') \\\n",
    "    .appName(\"Sparkify Local ETL\") \\\n",
    "    .getOrCreate()\n",
    "\n",
    "spark.newSession()"
   ]
  },
  {
   "cell_type": "code",
   "execution_count": 4,
   "metadata": {},
   "outputs": [
    {
     "name": "stdout",
     "output_type": "stream",
     "text": [
      "root\n",
      " |-- artist_id: string (nullable = true)\n",
      " |-- artist_name: string (nullable = true)\n",
      " |-- artist_location: string (nullable = true)\n",
      " |-- artist_latitude: double (nullable = true)\n",
      " |-- artist_longitude: double (nullable = true)\n",
      " |-- song_id: string (nullable = true)\n",
      " |-- duration: double (nullable = true)\n",
      " |-- title: string (nullable = true)\n",
      " |-- year: short (nullable = true)\n",
      "\n"
     ]
    }
   ],
   "source": [
    "# /opt/data/song_data/\n",
    "# └── A\n",
    "#     ├── A\n",
    "#     │   ├── A\n",
    "#     │   │   ├── TRAAAAK128F9318786.json\n",
    "#     │   │   ├── TRAAAAV128F421A322.json\n",
    "#     │   │   ├── TRAAABD128F429CF47.json\n",
    "#     │   │   ├── TRAAACN128F9355673.json\n",
    "\n",
    "song_schema = StructType([\n",
    "    StructField(\"artist_id\", StringType(), True),\n",
    "    StructField(\"artist_name\", StringType(), True),\n",
    "    StructField(\"artist_location\", StringType(), True),\n",
    "    StructField(\"artist_latitude\", DoubleType(), True),\n",
    "    StructField(\"artist_longitude\", DoubleType(), True),\n",
    "    StructField(\"song_id\", StringType(), True),\n",
    "    StructField(\"duration\", DoubleType(), True),\n",
    "    StructField(\"title\", StringType(), True),\n",
    "    StructField(\"year\", ShortType(), True),\n",
    "])\n",
    "\n",
    "# song_df = spark.read.json('/opt/data/song_data/A/A/A/*.json', song_schema).cache()\n",
    "song_df = spark.read.json('/opt/data/song_data/*/*/*/*.json', song_schema).cache()\n",
    "song_df.printSchema()"
   ]
  },
  {
   "cell_type": "code",
   "execution_count": 5,
   "metadata": {},
   "outputs": [
    {
     "name": "stdout",
     "output_type": "stream",
     "text": [
      "song record count: 14896\n"
     ]
    }
   ],
   "source": [
    "print('song record count:', song_df.count())"
   ]
  },
  {
   "cell_type": "code",
   "execution_count": 8,
   "metadata": {},
   "outputs": [
    {
     "data": {
      "text/html": [
       "<div>\n",
       "<style scoped>\n",
       "    .dataframe tbody tr th:only-of-type {\n",
       "        vertical-align: middle;\n",
       "    }\n",
       "\n",
       "    .dataframe tbody tr th {\n",
       "        vertical-align: top;\n",
       "    }\n",
       "\n",
       "    .dataframe thead th {\n",
       "        text-align: right;\n",
       "    }\n",
       "</style>\n",
       "<table border=\"1\" class=\"dataframe\">\n",
       "  <thead>\n",
       "    <tr style=\"text-align: right;\">\n",
       "      <th></th>\n",
       "      <th>artist_id</th>\n",
       "      <th>artist_name</th>\n",
       "      <th>artist_location</th>\n",
       "      <th>artist_latitude</th>\n",
       "      <th>artist_longitude</th>\n",
       "      <th>song_id</th>\n",
       "      <th>duration</th>\n",
       "      <th>title</th>\n",
       "      <th>year</th>\n",
       "    </tr>\n",
       "  </thead>\n",
       "  <tbody>\n",
       "    <tr>\n",
       "      <th>0</th>\n",
       "      <td>AR4T2IF1187B9ADBB7</td>\n",
       "      <td>Billy Idol</td>\n",
       "      <td>&lt;a href=\"http://billyidol.net\" onmousedown='Un...</td>\n",
       "      <td>63.96027</td>\n",
       "      <td>10.22442</td>\n",
       "      <td>SOVIYJY12AF72A4B00</td>\n",
       "      <td>233.22077</td>\n",
       "      <td>The Dead Next Door (Digitally Remastered 99)</td>\n",
       "      <td>1983</td>\n",
       "    </tr>\n",
       "    <tr>\n",
       "      <th>1</th>\n",
       "      <td>AR4T2IF1187B9ADBB7</td>\n",
       "      <td>Billy Idol</td>\n",
       "      <td>&lt;a href=\"http://billyidol.net\" onmousedown='Un...</td>\n",
       "      <td>63.96027</td>\n",
       "      <td>10.22442</td>\n",
       "      <td>SOVYXYL12AF72A3373</td>\n",
       "      <td>287.92118</td>\n",
       "      <td>Rebel Yell (1999 Digital Remaster)</td>\n",
       "      <td>1983</td>\n",
       "    </tr>\n",
       "    <tr>\n",
       "      <th>2</th>\n",
       "      <td>ARQ846I1187B9A7083</td>\n",
       "      <td>Yvonne S. Moriarty / Walt Fowler / Ladd McInto...</td>\n",
       "      <td></td>\n",
       "      <td>NaN</td>\n",
       "      <td>NaN</td>\n",
       "      <td>SOEPTVC12A67ADD0DA</td>\n",
       "      <td>196.04853</td>\n",
       "      <td>To Zucchabar [\"Gladiator\" - Music from the Mot...</td>\n",
       "      <td>0</td>\n",
       "    </tr>\n",
       "  </tbody>\n",
       "</table>\n",
       "</div>"
      ],
      "text/plain": [
       "            artist_id                                        artist_name  \\\n",
       "0  AR4T2IF1187B9ADBB7                                         Billy Idol   \n",
       "1  AR4T2IF1187B9ADBB7                                         Billy Idol   \n",
       "2  ARQ846I1187B9A7083  Yvonne S. Moriarty / Walt Fowler / Ladd McInto...   \n",
       "\n",
       "                                     artist_location  artist_latitude  \\\n",
       "0  <a href=\"http://billyidol.net\" onmousedown='Un...         63.96027   \n",
       "1  <a href=\"http://billyidol.net\" onmousedown='Un...         63.96027   \n",
       "2                                                                 NaN   \n",
       "\n",
       "   artist_longitude             song_id   duration  \\\n",
       "0          10.22442  SOVIYJY12AF72A4B00  233.22077   \n",
       "1          10.22442  SOVYXYL12AF72A3373  287.92118   \n",
       "2               NaN  SOEPTVC12A67ADD0DA  196.04853   \n",
       "\n",
       "                                               title  year  \n",
       "0       The Dead Next Door (Digitally Remastered 99)  1983  \n",
       "1                 Rebel Yell (1999 Digital Remaster)  1983  \n",
       "2  To Zucchabar [\"Gladiator\" - Music from the Mot...     0  "
      ]
     },
     "execution_count": 8,
     "metadata": {},
     "output_type": "execute_result"
    }
   ],
   "source": [
    "song_df.limit(3).toPandas()"
   ]
  },
  {
   "cell_type": "code",
   "execution_count": 9,
   "metadata": {},
   "outputs": [
    {
     "name": "stdout",
     "output_type": "stream",
     "text": [
      "root\n",
      " |-- artist: string (nullable = true)\n",
      " |-- auth: string (nullable = true)\n",
      " |-- firstName: string (nullable = true)\n",
      " |-- gender: string (nullable = true)\n",
      " |-- itemInSession: long (nullable = true)\n",
      " |-- lastName: string (nullable = true)\n",
      " |-- length: double (nullable = true)\n",
      " |-- level: string (nullable = true)\n",
      " |-- location: string (nullable = true)\n",
      " |-- method: string (nullable = true)\n",
      " |-- page: string (nullable = true)\n",
      " |-- registration: double (nullable = true)\n",
      " |-- sessionId: long (nullable = true)\n",
      " |-- song: string (nullable = true)\n",
      " |-- status: long (nullable = true)\n",
      " |-- ts: long (nullable = true)\n",
      " |-- userAgent: string (nullable = true)\n",
      " |-- userId: string (nullable = true)\n",
      " |-- timestamp: string (nullable = true)\n",
      " |-- start_time: string (nullable = true)\n",
      "\n"
     ]
    }
   ],
   "source": [
    "# workspace/data/log_data/\n",
    "# └── 2018\n",
    "#     └── 11\n",
    "#         ├── 2018-11-01-events.json\n",
    "#\n",
    "\n",
    "event_df = spark.read.json('/opt/data/log_data/*/*/*.json') \\\n",
    "    .filter(F.col('page') == 'NextSong') \\\n",
    "    .withColumn('timestamp', F.from_unixtime(F.col('ts') / 1000)) \\\n",
    "    .withColumn('start_time', F.date_format('timestamp', 'yyyyMMddHH')) \\\n",
    "    .cache()\n",
    "\n",
    "event_df.printSchema()"
   ]
  },
  {
   "cell_type": "code",
   "execution_count": 10,
   "metadata": {},
   "outputs": [
    {
     "name": "stdout",
     "output_type": "stream",
     "text": [
      "event (log) record count: 6820\n"
     ]
    }
   ],
   "source": [
    "print('event (log) record count:', event_df.count())"
   ]
  },
  {
   "cell_type": "code",
   "execution_count": 11,
   "metadata": {},
   "outputs": [
    {
     "data": {
      "text/html": [
       "<div>\n",
       "<style scoped>\n",
       "    .dataframe tbody tr th:only-of-type {\n",
       "        vertical-align: middle;\n",
       "    }\n",
       "\n",
       "    .dataframe tbody tr th {\n",
       "        vertical-align: top;\n",
       "    }\n",
       "\n",
       "    .dataframe thead th {\n",
       "        text-align: right;\n",
       "    }\n",
       "</style>\n",
       "<table border=\"1\" class=\"dataframe\">\n",
       "  <thead>\n",
       "    <tr style=\"text-align: right;\">\n",
       "      <th></th>\n",
       "      <th>artist</th>\n",
       "      <th>auth</th>\n",
       "      <th>firstName</th>\n",
       "      <th>gender</th>\n",
       "      <th>itemInSession</th>\n",
       "      <th>lastName</th>\n",
       "      <th>length</th>\n",
       "      <th>level</th>\n",
       "      <th>location</th>\n",
       "      <th>method</th>\n",
       "      <th>page</th>\n",
       "      <th>registration</th>\n",
       "      <th>sessionId</th>\n",
       "      <th>song</th>\n",
       "      <th>status</th>\n",
       "      <th>ts</th>\n",
       "      <th>userAgent</th>\n",
       "      <th>userId</th>\n",
       "      <th>timestamp</th>\n",
       "      <th>start_time</th>\n",
       "    </tr>\n",
       "  </thead>\n",
       "  <tbody>\n",
       "    <tr>\n",
       "      <th>0</th>\n",
       "      <td>Harmonia</td>\n",
       "      <td>Logged In</td>\n",
       "      <td>Ryan</td>\n",
       "      <td>M</td>\n",
       "      <td>0</td>\n",
       "      <td>Smith</td>\n",
       "      <td>655.77751</td>\n",
       "      <td>free</td>\n",
       "      <td>San Jose-Sunnyvale-Santa Clara, CA</td>\n",
       "      <td>PUT</td>\n",
       "      <td>NextSong</td>\n",
       "      <td>1.541017e+12</td>\n",
       "      <td>583</td>\n",
       "      <td>Sehr kosmisch</td>\n",
       "      <td>200</td>\n",
       "      <td>1542241826796</td>\n",
       "      <td>\"Mozilla/5.0 (X11; Linux x86_64) AppleWebKit/5...</td>\n",
       "      <td>26</td>\n",
       "      <td>2018-11-15 00:30:26</td>\n",
       "      <td>2018111500</td>\n",
       "    </tr>\n",
       "    <tr>\n",
       "      <th>1</th>\n",
       "      <td>The Prodigy</td>\n",
       "      <td>Logged In</td>\n",
       "      <td>Ryan</td>\n",
       "      <td>M</td>\n",
       "      <td>1</td>\n",
       "      <td>Smith</td>\n",
       "      <td>260.07465</td>\n",
       "      <td>free</td>\n",
       "      <td>San Jose-Sunnyvale-Santa Clara, CA</td>\n",
       "      <td>PUT</td>\n",
       "      <td>NextSong</td>\n",
       "      <td>1.541017e+12</td>\n",
       "      <td>583</td>\n",
       "      <td>The Big Gundown</td>\n",
       "      <td>200</td>\n",
       "      <td>1542242481796</td>\n",
       "      <td>\"Mozilla/5.0 (X11; Linux x86_64) AppleWebKit/5...</td>\n",
       "      <td>26</td>\n",
       "      <td>2018-11-15 00:41:21</td>\n",
       "      <td>2018111500</td>\n",
       "    </tr>\n",
       "    <tr>\n",
       "      <th>2</th>\n",
       "      <td>Train</td>\n",
       "      <td>Logged In</td>\n",
       "      <td>Ryan</td>\n",
       "      <td>M</td>\n",
       "      <td>2</td>\n",
       "      <td>Smith</td>\n",
       "      <td>205.45261</td>\n",
       "      <td>free</td>\n",
       "      <td>San Jose-Sunnyvale-Santa Clara, CA</td>\n",
       "      <td>PUT</td>\n",
       "      <td>NextSong</td>\n",
       "      <td>1.541017e+12</td>\n",
       "      <td>583</td>\n",
       "      <td>Marry Me</td>\n",
       "      <td>200</td>\n",
       "      <td>1542242741796</td>\n",
       "      <td>\"Mozilla/5.0 (X11; Linux x86_64) AppleWebKit/5...</td>\n",
       "      <td>26</td>\n",
       "      <td>2018-11-15 00:45:41</td>\n",
       "      <td>2018111500</td>\n",
       "    </tr>\n",
       "  </tbody>\n",
       "</table>\n",
       "</div>"
      ],
      "text/plain": [
       "        artist       auth firstName gender  itemInSession lastName     length  \\\n",
       "0     Harmonia  Logged In      Ryan      M              0    Smith  655.77751   \n",
       "1  The Prodigy  Logged In      Ryan      M              1    Smith  260.07465   \n",
       "2        Train  Logged In      Ryan      M              2    Smith  205.45261   \n",
       "\n",
       "  level                            location method      page  registration  \\\n",
       "0  free  San Jose-Sunnyvale-Santa Clara, CA    PUT  NextSong  1.541017e+12   \n",
       "1  free  San Jose-Sunnyvale-Santa Clara, CA    PUT  NextSong  1.541017e+12   \n",
       "2  free  San Jose-Sunnyvale-Santa Clara, CA    PUT  NextSong  1.541017e+12   \n",
       "\n",
       "   sessionId             song  status             ts  \\\n",
       "0        583    Sehr kosmisch     200  1542241826796   \n",
       "1        583  The Big Gundown     200  1542242481796   \n",
       "2        583         Marry Me     200  1542242741796   \n",
       "\n",
       "                                           userAgent userId  \\\n",
       "0  \"Mozilla/5.0 (X11; Linux x86_64) AppleWebKit/5...     26   \n",
       "1  \"Mozilla/5.0 (X11; Linux x86_64) AppleWebKit/5...     26   \n",
       "2  \"Mozilla/5.0 (X11; Linux x86_64) AppleWebKit/5...     26   \n",
       "\n",
       "             timestamp  start_time  \n",
       "0  2018-11-15 00:30:26  2018111500  \n",
       "1  2018-11-15 00:41:21  2018111500  \n",
       "2  2018-11-15 00:45:41  2018111500  "
      ]
     },
     "execution_count": 11,
     "metadata": {},
     "output_type": "execute_result"
    }
   ],
   "source": [
    "event_df.limit(3).toPandas()"
   ]
  },
  {
   "cell_type": "markdown",
   "metadata": {},
   "source": [
    "# Start Transform"
   ]
  },
  {
   "cell_type": "markdown",
   "metadata": {},
   "source": [
    "## User Dimension DataFrame"
   ]
  },
  {
   "cell_type": "code",
   "execution_count": 12,
   "metadata": {},
   "outputs": [],
   "source": [
    "d_user_df = event_df.select('userId', 'lastName', 'firstName', 'gender') \\\n",
    "    .dropDuplicates(['userId']) \\\n",
    "    .cache()\n"
   ]
  },
  {
   "cell_type": "code",
   "execution_count": 13,
   "metadata": {},
   "outputs": [
    {
     "name": "stdout",
     "output_type": "stream",
     "text": [
      "user dimension record count:  96\n"
     ]
    }
   ],
   "source": [
    "print('user dimension record count: ', d_user_df.count())"
   ]
  },
  {
   "cell_type": "code",
   "execution_count": 14,
   "metadata": {},
   "outputs": [
    {
     "data": {
      "text/html": [
       "<div>\n",
       "<style scoped>\n",
       "    .dataframe tbody tr th:only-of-type {\n",
       "        vertical-align: middle;\n",
       "    }\n",
       "\n",
       "    .dataframe tbody tr th {\n",
       "        vertical-align: top;\n",
       "    }\n",
       "\n",
       "    .dataframe thead th {\n",
       "        text-align: right;\n",
       "    }\n",
       "</style>\n",
       "<table border=\"1\" class=\"dataframe\">\n",
       "  <thead>\n",
       "    <tr style=\"text-align: right;\">\n",
       "      <th></th>\n",
       "      <th>userId</th>\n",
       "      <th>lastName</th>\n",
       "      <th>firstName</th>\n",
       "      <th>gender</th>\n",
       "    </tr>\n",
       "  </thead>\n",
       "  <tbody>\n",
       "    <tr>\n",
       "      <th>0</th>\n",
       "      <td>51</td>\n",
       "      <td>Burke</td>\n",
       "      <td>Maia</td>\n",
       "      <td>F</td>\n",
       "    </tr>\n",
       "    <tr>\n",
       "      <th>1</th>\n",
       "      <td>7</td>\n",
       "      <td>Jordan</td>\n",
       "      <td>Adelyn</td>\n",
       "      <td>F</td>\n",
       "    </tr>\n",
       "    <tr>\n",
       "      <th>2</th>\n",
       "      <td>15</td>\n",
       "      <td>Koch</td>\n",
       "      <td>Lily</td>\n",
       "      <td>F</td>\n",
       "    </tr>\n",
       "  </tbody>\n",
       "</table>\n",
       "</div>"
      ],
      "text/plain": [
       "  userId lastName firstName gender\n",
       "0     51    Burke      Maia      F\n",
       "1      7   Jordan    Adelyn      F\n",
       "2     15     Koch      Lily      F"
      ]
     },
     "execution_count": 14,
     "metadata": {},
     "output_type": "execute_result"
    }
   ],
   "source": [
    "d_user_df.limit(3).toPandas()"
   ]
  },
  {
   "cell_type": "markdown",
   "metadata": {},
   "source": [
    "## Artist Dimension DataFrame"
   ]
  },
  {
   "cell_type": "code",
   "execution_count": 15,
   "metadata": {},
   "outputs": [],
   "source": [
    "d_artist_df = song_df.select('artist_id', 'artist_name', 'artist_location', 'artist_latitude', 'artist_longitude') \\\n",
    "    .dropDuplicates(['artist_id']) \\\n",
    "    .cache()"
   ]
  },
  {
   "cell_type": "code",
   "execution_count": 16,
   "metadata": {},
   "outputs": [
    {
     "name": "stdout",
     "output_type": "stream",
     "text": [
      "artist dimension record count: 9553\n"
     ]
    }
   ],
   "source": [
    "print('artist dimension record count:', d_artist_df.count())"
   ]
  },
  {
   "cell_type": "code",
   "execution_count": 17,
   "metadata": {},
   "outputs": [
    {
     "data": {
      "text/html": [
       "<div>\n",
       "<style scoped>\n",
       "    .dataframe tbody tr th:only-of-type {\n",
       "        vertical-align: middle;\n",
       "    }\n",
       "\n",
       "    .dataframe tbody tr th {\n",
       "        vertical-align: top;\n",
       "    }\n",
       "\n",
       "    .dataframe thead th {\n",
       "        text-align: right;\n",
       "    }\n",
       "</style>\n",
       "<table border=\"1\" class=\"dataframe\">\n",
       "  <thead>\n",
       "    <tr style=\"text-align: right;\">\n",
       "      <th></th>\n",
       "      <th>artist_id</th>\n",
       "      <th>artist_name</th>\n",
       "      <th>artist_location</th>\n",
       "      <th>artist_latitude</th>\n",
       "      <th>artist_longitude</th>\n",
       "    </tr>\n",
       "  </thead>\n",
       "  <tbody>\n",
       "    <tr>\n",
       "      <th>0</th>\n",
       "      <td>AR0G85S1187FB4D46D</td>\n",
       "      <td>Hey Hey My My</td>\n",
       "      <td></td>\n",
       "      <td>NaN</td>\n",
       "      <td>NaN</td>\n",
       "    </tr>\n",
       "    <tr>\n",
       "      <th>1</th>\n",
       "      <td>AR13CXU1187B9AD30A</td>\n",
       "      <td>The Clash</td>\n",
       "      <td>London, England</td>\n",
       "      <td>51.52328</td>\n",
       "      <td>-0.21346</td>\n",
       "    </tr>\n",
       "    <tr>\n",
       "      <th>2</th>\n",
       "      <td>AR1X3SU11C8A415261</td>\n",
       "      <td>Vessels</td>\n",
       "      <td>Hanover Park/Schaumburg</td>\n",
       "      <td>41.99112</td>\n",
       "      <td>-88.15849</td>\n",
       "    </tr>\n",
       "  </tbody>\n",
       "</table>\n",
       "</div>"
      ],
      "text/plain": [
       "            artist_id    artist_name          artist_location  \\\n",
       "0  AR0G85S1187FB4D46D  Hey Hey My My                            \n",
       "1  AR13CXU1187B9AD30A      The Clash          London, England   \n",
       "2  AR1X3SU11C8A415261        Vessels  Hanover Park/Schaumburg   \n",
       "\n",
       "   artist_latitude  artist_longitude  \n",
       "0              NaN               NaN  \n",
       "1         51.52328          -0.21346  \n",
       "2         41.99112         -88.15849  "
      ]
     },
     "execution_count": 17,
     "metadata": {},
     "output_type": "execute_result"
    }
   ],
   "source": [
    "d_artist_df.limit(3).toPandas()"
   ]
  },
  {
   "cell_type": "markdown",
   "metadata": {},
   "source": [
    "## Song Dimension DataFrame"
   ]
  },
  {
   "cell_type": "code",
   "execution_count": 18,
   "metadata": {},
   "outputs": [],
   "source": [
    "d_song_df = song_df.select('song_id', 'title', 'artist_id', 'year', 'duration') \\\n",
    "    .cache()"
   ]
  },
  {
   "cell_type": "code",
   "execution_count": 19,
   "metadata": {},
   "outputs": [
    {
     "name": "stdout",
     "output_type": "stream",
     "text": [
      "song dimension record count: 14896\n"
     ]
    }
   ],
   "source": [
    "print('song dimension record count:', d_song_df.count())"
   ]
  },
  {
   "cell_type": "code",
   "execution_count": 20,
   "metadata": {},
   "outputs": [
    {
     "data": {
      "text/html": [
       "<div>\n",
       "<style scoped>\n",
       "    .dataframe tbody tr th:only-of-type {\n",
       "        vertical-align: middle;\n",
       "    }\n",
       "\n",
       "    .dataframe tbody tr th {\n",
       "        vertical-align: top;\n",
       "    }\n",
       "\n",
       "    .dataframe thead th {\n",
       "        text-align: right;\n",
       "    }\n",
       "</style>\n",
       "<table border=\"1\" class=\"dataframe\">\n",
       "  <thead>\n",
       "    <tr style=\"text-align: right;\">\n",
       "      <th></th>\n",
       "      <th>song_id</th>\n",
       "      <th>title</th>\n",
       "      <th>artist_id</th>\n",
       "      <th>year</th>\n",
       "      <th>duration</th>\n",
       "    </tr>\n",
       "  </thead>\n",
       "  <tbody>\n",
       "    <tr>\n",
       "      <th>0</th>\n",
       "      <td>SOVIYJY12AF72A4B00</td>\n",
       "      <td>The Dead Next Door (Digitally Remastered 99)</td>\n",
       "      <td>AR4T2IF1187B9ADBB7</td>\n",
       "      <td>1983</td>\n",
       "      <td>233.22077</td>\n",
       "    </tr>\n",
       "    <tr>\n",
       "      <th>1</th>\n",
       "      <td>SOVYXYL12AF72A3373</td>\n",
       "      <td>Rebel Yell (1999 Digital Remaster)</td>\n",
       "      <td>AR4T2IF1187B9ADBB7</td>\n",
       "      <td>1983</td>\n",
       "      <td>287.92118</td>\n",
       "    </tr>\n",
       "    <tr>\n",
       "      <th>2</th>\n",
       "      <td>SOEPTVC12A67ADD0DA</td>\n",
       "      <td>To Zucchabar [\"Gladiator\" - Music from the Mot...</td>\n",
       "      <td>ARQ846I1187B9A7083</td>\n",
       "      <td>0</td>\n",
       "      <td>196.04853</td>\n",
       "    </tr>\n",
       "  </tbody>\n",
       "</table>\n",
       "</div>"
      ],
      "text/plain": [
       "              song_id                                              title  \\\n",
       "0  SOVIYJY12AF72A4B00       The Dead Next Door (Digitally Remastered 99)   \n",
       "1  SOVYXYL12AF72A3373                 Rebel Yell (1999 Digital Remaster)   \n",
       "2  SOEPTVC12A67ADD0DA  To Zucchabar [\"Gladiator\" - Music from the Mot...   \n",
       "\n",
       "            artist_id  year   duration  \n",
       "0  AR4T2IF1187B9ADBB7  1983  233.22077  \n",
       "1  AR4T2IF1187B9ADBB7  1983  287.92118  \n",
       "2  ARQ846I1187B9A7083     0  196.04853  "
      ]
     },
     "execution_count": 20,
     "metadata": {},
     "output_type": "execute_result"
    }
   ],
   "source": [
    "d_song_df.limit(3).toPandas()"
   ]
  },
  {
   "cell_type": "markdown",
   "metadata": {},
   "source": [
    "## Time Dimension DataFrame"
   ]
  },
  {
   "cell_type": "code",
   "execution_count": 21,
   "metadata": {},
   "outputs": [],
   "source": [
    "d_time_df = event_df.select('timestamp', 'start_time') \\\n",
    "    .withColumn('year', F.year('timestamp')) \\\n",
    "    .withColumn('month', F.month('timestamp')) \\\n",
    "    .withColumn('day', F.dayofmonth('timestamp')) \\\n",
    "    .withColumn('hour', F.hour('timestamp')) \\\n",
    "    .withColumn('week_of_year', F.weekofyear('timestamp')) \\\n",
    "    .withColumn('weekday', F.dayofweek('timestamp')) \\\n",
    "    .select(['start_time', 'year', 'month', 'day', 'hour', 'week_of_year', 'weekday']) \\\n",
    "    .dropDuplicates(['start_time'])\n"
   ]
  },
  {
   "cell_type": "code",
   "execution_count": 22,
   "metadata": {},
   "outputs": [
    {
     "name": "stdout",
     "output_type": "stream",
     "text": [
      "time dimension record count: 544\n"
     ]
    }
   ],
   "source": [
    "print('time dimension record count:', d_time_df.count())"
   ]
  },
  {
   "cell_type": "code",
   "execution_count": 23,
   "metadata": {},
   "outputs": [
    {
     "data": {
      "text/html": [
       "<div>\n",
       "<style scoped>\n",
       "    .dataframe tbody tr th:only-of-type {\n",
       "        vertical-align: middle;\n",
       "    }\n",
       "\n",
       "    .dataframe tbody tr th {\n",
       "        vertical-align: top;\n",
       "    }\n",
       "\n",
       "    .dataframe thead th {\n",
       "        text-align: right;\n",
       "    }\n",
       "</style>\n",
       "<table border=\"1\" class=\"dataframe\">\n",
       "  <thead>\n",
       "    <tr style=\"text-align: right;\">\n",
       "      <th></th>\n",
       "      <th>start_time</th>\n",
       "      <th>year</th>\n",
       "      <th>month</th>\n",
       "      <th>day</th>\n",
       "      <th>hour</th>\n",
       "      <th>week_of_year</th>\n",
       "      <th>weekday</th>\n",
       "    </tr>\n",
       "  </thead>\n",
       "  <tbody>\n",
       "    <tr>\n",
       "      <th>0</th>\n",
       "      <td>2018111710</td>\n",
       "      <td>2018</td>\n",
       "      <td>11</td>\n",
       "      <td>17</td>\n",
       "      <td>10</td>\n",
       "      <td>46</td>\n",
       "      <td>7</td>\n",
       "    </tr>\n",
       "    <tr>\n",
       "      <th>1</th>\n",
       "      <td>2018111004</td>\n",
       "      <td>2018</td>\n",
       "      <td>11</td>\n",
       "      <td>10</td>\n",
       "      <td>4</td>\n",
       "      <td>45</td>\n",
       "      <td>7</td>\n",
       "    </tr>\n",
       "    <tr>\n",
       "      <th>2</th>\n",
       "      <td>2018112508</td>\n",
       "      <td>2018</td>\n",
       "      <td>11</td>\n",
       "      <td>25</td>\n",
       "      <td>8</td>\n",
       "      <td>47</td>\n",
       "      <td>1</td>\n",
       "    </tr>\n",
       "  </tbody>\n",
       "</table>\n",
       "</div>"
      ],
      "text/plain": [
       "   start_time  year  month  day  hour  week_of_year  weekday\n",
       "0  2018111710  2018     11   17    10            46        7\n",
       "1  2018111004  2018     11   10     4            45        7\n",
       "2  2018112508  2018     11   25     8            47        1"
      ]
     },
     "execution_count": 23,
     "metadata": {},
     "output_type": "execute_result"
    }
   ],
   "source": [
    "d_time_df.limit(3).toPandas()"
   ]
  },
  {
   "cell_type": "markdown",
   "metadata": {},
   "source": [
    "## Songplay Fact DataFrame"
   ]
  },
  {
   "cell_type": "code",
   "execution_count": 102,
   "metadata": {},
   "outputs": [
    {
     "data": {
      "text/html": [
       "<div>\n",
       "<style scoped>\n",
       "    .dataframe tbody tr th:only-of-type {\n",
       "        vertical-align: middle;\n",
       "    }\n",
       "\n",
       "    .dataframe tbody tr th {\n",
       "        vertical-align: top;\n",
       "    }\n",
       "\n",
       "    .dataframe thead th {\n",
       "        text-align: right;\n",
       "    }\n",
       "</style>\n",
       "<table border=\"1\" class=\"dataframe\">\n",
       "  <thead>\n",
       "    <tr style=\"text-align: right;\">\n",
       "      <th></th>\n",
       "      <th>song_id</th>\n",
       "      <th>title</th>\n",
       "      <th>duration</th>\n",
       "      <th>artist_id</th>\n",
       "      <th>artist_name</th>\n",
       "    </tr>\n",
       "  </thead>\n",
       "  <tbody>\n",
       "    <tr>\n",
       "      <th>0</th>\n",
       "      <td>SOVIYJY12AF72A4B00</td>\n",
       "      <td>The Dead Next Door (Digitally Remastered 99)</td>\n",
       "      <td>233.22077</td>\n",
       "      <td>AR4T2IF1187B9ADBB7</td>\n",
       "      <td>Billy Idol</td>\n",
       "    </tr>\n",
       "    <tr>\n",
       "      <th>1</th>\n",
       "      <td>SOVYXYL12AF72A3373</td>\n",
       "      <td>Rebel Yell (1999 Digital Remaster)</td>\n",
       "      <td>287.92118</td>\n",
       "      <td>AR4T2IF1187B9ADBB7</td>\n",
       "      <td>Billy Idol</td>\n",
       "    </tr>\n",
       "    <tr>\n",
       "      <th>2</th>\n",
       "      <td>SOEPTVC12A67ADD0DA</td>\n",
       "      <td>To Zucchabar [\"Gladiator\" - Music from the Mot...</td>\n",
       "      <td>196.04853</td>\n",
       "      <td>ARQ846I1187B9A7083</td>\n",
       "      <td>Yvonne S. Moriarty / Walt Fowler / Ladd McInto...</td>\n",
       "    </tr>\n",
       "  </tbody>\n",
       "</table>\n",
       "</div>"
      ],
      "text/plain": [
       "              song_id                                              title  \\\n",
       "0  SOVIYJY12AF72A4B00       The Dead Next Door (Digitally Remastered 99)   \n",
       "1  SOVYXYL12AF72A3373                 Rebel Yell (1999 Digital Remaster)   \n",
       "2  SOEPTVC12A67ADD0DA  To Zucchabar [\"Gladiator\" - Music from the Mot...   \n",
       "\n",
       "    duration           artist_id  \\\n",
       "0  233.22077  AR4T2IF1187B9ADBB7   \n",
       "1  287.92118  AR4T2IF1187B9ADBB7   \n",
       "2  196.04853  ARQ846I1187B9A7083   \n",
       "\n",
       "                                         artist_name  \n",
       "0                                         Billy Idol  \n",
       "1                                         Billy Idol  \n",
       "2  Yvonne S. Moriarty / Walt Fowler / Ladd McInto...  "
      ]
     },
     "execution_count": 102,
     "metadata": {},
     "output_type": "execute_result"
    }
   ],
   "source": [
    "tmp_df = d_song_df.withColumnRenamed('artist_id', 'song_artist_id')\n",
    "tmp_df = tmp_df.join(d_artist_df, d_artist_df.artist_id == tmp_df.song_artist_id) \\\n",
    "    .select('song_id', 'title', 'duration', 'artist_id', 'artist_name')\n",
    "\n",
    "# print('tmp record count:', tmp_df.count())\n",
    "tmp_df.limit(3).toPandas()"
   ]
  },
  {
   "cell_type": "code",
   "execution_count": 121,
   "metadata": {},
   "outputs": [],
   "source": [
    "comparison = [event_df.song == tmp_df.title, event_df.length.cast(ShortType()) == tmp_df.duration.cast(ShortType())]\n",
    "\n",
    "f_songplay_df = event_df.withColumn('songplay_id', F.sha1(F.concat_ws('|', 'timestamp', 'userId', 'song'))) \\\n",
    "    .join(tmp_df, comparison, 'left') \\\n",
    "    .select(['songplay_id', 'start_time', 'userId', 'level', 'song_id', 'artist_id', 'sessionId', 'location', 'userAgent'])\n"
   ]
  },
  {
   "cell_type": "code",
   "execution_count": 122,
   "metadata": {},
   "outputs": [
    {
     "name": "stdout",
     "output_type": "stream",
     "text": [
      "songplay fact record count: 6820\n"
     ]
    }
   ],
   "source": [
    "print('songplay fact record count:', f_songplay_df.count())"
   ]
  },
  {
   "cell_type": "code",
   "execution_count": 123,
   "metadata": {},
   "outputs": [
    {
     "name": "stdout",
     "output_type": "stream",
     "text": [
      "songplay fact records with song_id value: 325\n"
     ]
    }
   ],
   "source": [
    "c = f_songplay_df.filter(F.col('song_id').isNotNull()).count()\n",
    "print('songplay fact records with song_id value:', c)"
   ]
  },
  {
   "cell_type": "code",
   "execution_count": 125,
   "metadata": {},
   "outputs": [],
   "source": [
    "# f_songplay_df.write.save('f_songplay_df.json', format='json')\n",
    "f_songplay_df.toPandas().to_csv('f_songplay_df.csv')\n",
    "d_user_df.toPandas().to_csv('d_user_df.csv')\n",
    "d_song_df.toPandas().to_csv('d_song_df.csv')\n",
    "d_artist_df.toPandas().to_csv('d_artist_df.csv')\n",
    "d_time_df.toPandas().to_csv('d_time_df.csv')"
   ]
  },
  {
   "cell_type": "code",
   "execution_count": null,
   "metadata": {},
   "outputs": [],
   "source": []
  }
 ],
 "metadata": {
  "kernelspec": {
   "display_name": "Python 3",
   "language": "python",
   "name": "python3"
  },
  "language_info": {
   "codemirror_mode": {
    "name": "ipython",
    "version": 3
   },
   "file_extension": ".py",
   "mimetype": "text/x-python",
   "name": "python",
   "nbconvert_exporter": "python",
   "pygments_lexer": "ipython3",
   "version": "3.7.3"
  }
 },
 "nbformat": 4,
 "nbformat_minor": 2
}
